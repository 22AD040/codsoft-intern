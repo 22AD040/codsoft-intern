{
  "nbformat": 4,
  "nbformat_minor": 0,
  "metadata": {
    "colab": {
      "provenance": []
    },
    "kernelspec": {
      "name": "python3",
      "display_name": "Python 3"
    },
    "language_info": {
      "name": "python"
    }
  },
  "cells": [
    {
      "cell_type": "code",
      "execution_count": 1,
      "metadata": {
        "colab": {
          "base_uri": "https://localhost:8080/"
        },
        "id": "DuJP1uZAvu8C",
        "outputId": "5626e1ad-0591-4def-e20c-f7127bea27c5"
      },
      "outputs": [
        {
          "output_type": "stream",
          "name": "stdout",
          "text": [
            "Welcome to the simple chatbot!\n",
            "You: HI\n",
            "ChatBot: Hello there! How can I help you?\n",
            "You: How are you\n",
            "ChatBot: I'm just a chatbot, but I'm doing well. Thanks for asking!\n",
            "You: goodbye\n",
            "ChatBot: Goodbye! Have a great day.\n",
            "You: exit\n",
            "Goodbye!\n"
          ]
        }
      ],
      "source": [
        "def simple_chatbot(user_input):\n",
        "\n",
        "    user_input = user_input.lower()\n",
        "\n",
        "\n",
        "    greetings = [\"hello\", \"hi\", \"hey\", \"greetings\"]\n",
        "    farewells = [\"bye\", \"goodbye\", \"see you later\"]\n",
        "    questions = [\"how are you\", \"what is your name\", \"who are you\"]\n",
        "\n",
        "\n",
        "    if user_input in greetings:\n",
        "        return \"Hello there! How can I help you?\"\n",
        "    elif user_input in farewells:\n",
        "        return \"Goodbye! Have a great day.\"\n",
        "    elif user_input in questions:\n",
        "        if \"how are you\" in user_input:\n",
        "            return \"I'm just a chatbot, but I'm doing well. Thanks for asking!\"\n",
        "        elif \"what is your name\" in user_input or \"who are you\" in user_input:\n",
        "            return \"I'm a simple chatbot. You can call me ChatBot.\"\n",
        "    else:\n",
        "        return \"I'm sorry, I didn't understand that. Can you please ask something else?\"\n",
        "\n",
        "\n",
        "\n",
        "print(\"Welcome to the simple chatbot!\")\n",
        "while True:\n",
        "    user_input = input(\"You: \")\n",
        "    if user_input.lower() == 'exit':\n",
        "        print(\"Goodbye!\")\n",
        "        break\n",
        "    response = simple_chatbot(user_input)\n",
        "    print(\"ChatBot:\", response)\n"
      ]
    }
  ]
}