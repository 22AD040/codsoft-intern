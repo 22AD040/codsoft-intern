{
  "nbformat": 4,
  "nbformat_minor": 0,
  "metadata": {
    "colab": {
      "provenance": []
    },
    "kernelspec": {
      "name": "python3",
      "display_name": "Python 3"
    },
    "language_info": {
      "name": "python"
    }
  },
  "cells": [
    {
      "cell_type": "code",
      "execution_count": 1,
      "metadata": {
        "colab": {
          "base_uri": "https://localhost:8080/"
        },
        "id": "1HZ6c6pXyzia",
        "outputId": "4f3182d7-8b0d-479a-ad3a-7c0294822290"
      },
      "outputs": [
        {
          "output_type": "stream",
          "name": "stdout",
          "text": [
            "Recommended movies:\n",
            "Forrest Gump\n",
            "Pulp Fiction\n",
            "The Matrix\n",
            "Interstellar\n",
            "Titanic\n"
          ]
        }
      ],
      "source": [
        "from sklearn.feature_extraction.text import TfidfVectorizer\n",
        "from sklearn.metrics.pairwise import linear_kernel\n",
        "\n",
        "# Sample movie data: movie titles and their genres\n",
        "movies_data = {\n",
        "    'The Shawshank Redemption': 'drama',\n",
        "    'The Godfather': 'drama',\n",
        "    'The Dark Knight': 'action',\n",
        "    'Pulp Fiction': 'drama',\n",
        "    'Forrest Gump': 'drama',\n",
        "    'The Lord of the Rings: The Return of the King': 'fantasy',\n",
        "    'Inception': 'action',\n",
        "    'Titanic': 'romance',\n",
        "    'Interstellar': 'sci-fi',\n",
        "    'The Matrix': 'sci-fi'\n",
        "}\n",
        "\n",
        "# Function to recommend movies based on user's preferences\n",
        "def recommend_movies(user_likes, movies_data):\n",
        "    # Transform movie genres into TF-IDF vectors\n",
        "    tfidf = TfidfVectorizer()\n",
        "    genres_matrix = tfidf.fit_transform(list(movies_data.values()))\n",
        "\n",
        "    # Compute similarity scores (cosine similarity)\n",
        "    cosine_similarities = linear_kernel(genres_matrix, genres_matrix)\n",
        "\n",
        "    # Get indices of movies\n",
        "    indices = {movie: i for i, movie in enumerate(movies_data.keys())}\n",
        "\n",
        "    # Find index of user-liked movies\n",
        "    movie_indices = [indices[movie] for movie in user_likes]\n",
        "\n",
        "    # Calculate average similarity with liked movies\n",
        "    avg_similarities = cosine_similarities[movie_indices].mean(axis=0)\n",
        "\n",
        "    # Get top recommendations based on similarity\n",
        "    similar_movies_indices = avg_similarities.argsort()[::-1]\n",
        "\n",
        "    # Exclude movies the user has already liked\n",
        "    recommended_movies = [list(movies_data.keys())[i] for i in similar_movies_indices if i not in movie_indices]\n",
        "\n",
        "    return recommended_movies[:5]  # Return top 5 recommendations\n",
        "\n",
        "# User preferences (liked movies)\n",
        "user_likes = ['The Shawshank Redemption', 'The Godfather']\n",
        "\n",
        "# Get movie recommendations for the user\n",
        "recommendations = recommend_movies(user_likes, movies_data)\n",
        "\n",
        "# Print recommended movies\n",
        "print(\"Recommended movies:\")\n",
        "for movie in recommendations:\n",
        "    print(movie)\n"
      ]
    }
  ]
}